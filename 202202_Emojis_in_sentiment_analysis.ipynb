{
  "nbformat": 4,
  "nbformat_minor": 0,
  "metadata": {
    "colab": {
      "name": "202202 Emojis in sentiment analysis.ipynb",
      "provenance": [],
      "authorship_tag": "ABX9TyOZ1guM/L+RedniAy6vrbsN",
      "include_colab_link": true
    },
    "kernelspec": {
      "name": "python3",
      "display_name": "Python 3"
    },
    "language_info": {
      "name": "python"
    }
  },
  "cells": [
    {
      "cell_type": "markdown",
      "metadata": {
        "id": "view-in-github",
        "colab_type": "text"
      },
      "source": [
        "<a href=\"https://colab.research.google.com/github/zuzannazak/202202-Emojis-in-sentiment-analysis.ipynb/blob/main/202202_Emojis_in_sentiment_analysis.ipynb\" target=\"_parent\"><img src=\"https://colab.research.google.com/assets/colab-badge.svg\" alt=\"Open In Colab\"/></a>"
      ]
    },
    {
      "cell_type": "markdown",
      "source": [
        "This paper wil explore ways to include emojis in sentiment analysis to improve its results:\n",
        "\n",
        "\n",
        "1.   How including emoji sentiment in text sentiment analysis affects its accuracy\n",
        "2.   How emojis can be used to detect sarcasm and improve sentiment analysis results\n",
        "\n"
      ],
      "metadata": {
        "id": "Ry3-_EkjNdjZ"
      }
    },
    {
      "cell_type": "code",
      "execution_count": null,
      "metadata": {
        "id": "4NHrDnTZNad8"
      },
      "outputs": [],
      "source": [
        ""
      ]
    }
  ]
}